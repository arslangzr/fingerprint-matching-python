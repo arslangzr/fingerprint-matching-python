{
 "cells": [
  {
   "cell_type": "code",
   "execution_count": 1,
   "id": "bfaf1ffe-07ce-41a4-b770-b3ec9f955b9b",
   "metadata": {},
   "outputs": [],
   "source": [
    "import cv2\n",
    "import numpy as np\n",
    "import os"
   ]
  },
  {
   "cell_type": "code",
   "execution_count": null,
   "id": "3ee7c7dd-3648-4de0-a826-484ac2cdb093",
   "metadata": {},
   "outputs": [
    {
     "name": "stderr",
     "output_type": "stream",
     "text": [
      "[ WARN:0@0.031] global shadow_sift.hpp:13 SIFT_create DEPRECATED: cv.xfeatures2d.SIFT_create() is deprecated due SIFT tranfer to the main repository. https://github.com/opencv/opencv/issues/16736\n"
     ]
    },
    {
     "name": "stdout",
     "output_type": "stream",
     "text": [
      "% match:  89.48275862068965\n",
      "Fingerprint ID: 106_3.tif\n"
     ]
    }
   ],
   "source": [
    "fingerprint_test = cv2.imread(\"TEST_1.tif\")\n",
    "# cv2.imshow(\"Original\", cv2.resize(fingerprint_test, None, fx=1, fy=1))\n",
    "# cv2.waitKey(0)\n",
    "# cv2.destroyAllWindows()\n",
    "match_found = False\n",
    "\n",
    "for file in [file for file in os.listdir(\"database\")]:\n",
    "    fingerprint_database_image = cv2.imread(\"./database/\" + file)\n",
    "    sift = cv2.xfeatures2d.SIFT_create()\n",
    "    keypoints_1, descriptors_1 = sift.detectAndCompute(fingerprint_test, None)\n",
    "    keypoints_2, descriptors_2 = sift.detectAndCompute(fingerprint_database_image, None)\n",
    "\n",
    "    matches = cv2.FlannBasedMatcher(dict(algorithm=1, trees=10), dict()).knnMatch(descriptors_1, descriptors_2, k=2)\n",
    "    match_points = []\n",
    "\n",
    "    for p, q in matches:\n",
    "        if p.distance < 0.1 * q.distance:\n",
    "            match_points.append(p)\n",
    "\n",
    "    keypoints = min(len(keypoints_1), len(keypoints_2))\n",
    "    threshold = 0.3\n",
    "\n",
    "    if len(match_points) / keypoints > threshold:\n",
    "        print(\"% match: \", len(match_points) / keypoints * 100)\n",
    "        print(\"Fingerprint ID: \" + str(file))\n",
    "        result = cv2.drawMatches(fingerprint_test, keypoints_1, fingerprint_database_image, keypoints_2, match_points, None)\n",
    "        result = cv2.resize(result, None, fx=2.5, fy=2.5)\n",
    "        match_found = True\n",
    "        # cv2.imshow(\"result\", result)\n",
    "        # cv2.waitKey(0)\n",
    "        # cv2.destroyAllWindows()\n",
    "        break\n",
    "\n",
    "if not match_found:\n",
    "    print(\"No matching fingerprint found in the database.\")"
   ]
  },
  {
   "cell_type": "code",
   "execution_count": null,
   "id": "71ae4e13-f8e2-4bc9-b800-2c755be796f1",
   "metadata": {},
   "outputs": [],
   "source": []
  },
  {
   "cell_type": "code",
   "execution_count": null,
   "id": "b8c4d5c3-2667-4044-a6de-48fbf6bd8ad1",
   "metadata": {},
   "outputs": [],
   "source": []
  }
 ],
 "metadata": {
  "kernelspec": {
   "display_name": "Python 3 (ipykernel)",
   "language": "python",
   "name": "python3"
  },
  "language_info": {
   "codemirror_mode": {
    "name": "ipython",
    "version": 3
   },
   "file_extension": ".py",
   "mimetype": "text/x-python",
   "name": "python",
   "nbconvert_exporter": "python",
   "pygments_lexer": "ipython3",
   "version": "3.12.3"
  }
 },
 "nbformat": 4,
 "nbformat_minor": 5
}

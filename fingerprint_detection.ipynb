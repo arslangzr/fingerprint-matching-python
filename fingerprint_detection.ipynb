{
 "cells": [
  {
   "cell_type": "markdown",
   "id": "f6e95b72-f1fe-4743-91c6-baf8c084f6c8",
   "metadata": {},
   "source": [
    "# Fingerprint Matching using OpenCV's SIFT and FLANN"
   ]
  },
  {
   "cell_type": "markdown",
   "id": "a1191ebd-0570-42a3-80c9-ba2e6602a44c",
   "metadata": {},
   "source": [
    "## 1. Import Necessary Libraries\n",
    "First, ensure that you import the necessary libraries."
   ]
  },
  {
   "cell_type": "code",
   "execution_count": 1,
   "id": "cda454fb-c1fd-4f56-9471-965728e093d6",
   "metadata": {},
   "outputs": [],
   "source": [
    "import cv2\n",
    "import numpy as np\n",
    "import os\n",
    "from multiprocessing import Pool, cpu_count"
   ]
  },
  {
   "cell_type": "markdown",
   "id": "ffd16669-0ad2-4fe5-993b-0df774ab1d74",
   "metadata": {},
   "source": [
    "## 2. Load the Fingerprint Image and Create SIFT Descriptor\n",
    "You will load the fingerprint image and create the SIFT descriptor outside of the multiprocessing function. This is important because global objects like images can cause issues when pickling."
   ]
  },
  {
   "cell_type": "code",
   "execution_count": 2,
   "id": "2a5a040d-ac7a-402e-98a6-a9a03bed750f",
   "metadata": {},
   "outputs": [
    {
     "name": "stderr",
     "output_type": "stream",
     "text": [
      "[ WARN:0@0.033] global shadow_sift.hpp:13 SIFT_create DEPRECATED: cv.xfeatures2d.SIFT_create() is deprecated due SIFT tranfer to the main repository. https://github.com/opencv/opencv/issues/16736\n"
     ]
    }
   ],
   "source": [
    "# Load the test fingerprint image\n",
    "fingerprint_test = cv2.imread(\"TEST_1.tif\")\n",
    "\n",
    "# SIFT detector for the test image\n",
    "sift = cv2.xfeatures2d.SIFT_create()\n",
    "keypoints_1, descriptors_1 = sift.detectAndCompute(fingerprint_test, None)\n"
   ]
  },
  {
   "cell_type": "markdown",
   "id": "79312db9-98f9-4429-8480-a02c62bdcaf5",
   "metadata": {},
   "source": [
    "## 3. Define the Functions\n",
    "Define the functions for matching fingerprints, serializing matches, and processing results. Make sure these functions are defined at the top level (not inside another function) to ensure they can be pickled properly."
   ]
  },
  {
   "cell_type": "code",
   "execution_count": 3,
   "id": "18c0a0d6-c19d-436c-9bca-c58de7979826",
   "metadata": {},
   "outputs": [],
   "source": [
    "# Function to serialize DMatch objects (convert them to tuples)\n",
    "def serialize_match(matches):\n",
    "    return [(m.queryIdx, m.trainIdx, m.distance) for m in matches]\n",
    "\n",
    "# Function to match a single fingerprint from the database\n",
    "def match_fingerprint(file):\n",
    "    fingerprint_database_image = cv2.imread(\"./database/\" + file)\n",
    "    if fingerprint_database_image is None:\n",
    "        return None\n",
    "\n",
    "    # Detect keypoints and compute descriptors for the database image\n",
    "    keypoints_2, descriptors_2 = sift.detectAndCompute(fingerprint_database_image, None)\n",
    "\n",
    "    if descriptors_1 is None or descriptors_2 is None:\n",
    "        return None\n",
    "\n",
    "    # Match descriptors using FLANN-based matcher\n",
    "    flann = cv2.FlannBasedMatcher(dict(algorithm=1, trees=10), dict())\n",
    "    matches = flann.knnMatch(descriptors_1, descriptors_2, k=2)\n",
    "\n",
    "    # Filter good matches\n",
    "    match_points = []\n",
    "    for p, q in matches:\n",
    "        if p.distance < 0.1 * q.distance:\n",
    "            match_points.append(p)\n",
    "\n",
    "    keypoints = min(len(keypoints_1), len(keypoints_2))\n",
    "    if keypoints == 0:\n",
    "        return None\n",
    "\n",
    "    threshold = 0.3\n",
    "    match_ratio = len(match_points) / keypoints\n",
    "    if match_ratio > threshold:\n",
    "        # Serialize match points for pickling\n",
    "        serialized_match_points = serialize_match(match_points)\n",
    "        \n",
    "        # If a match is found, return relevant information\n",
    "        return {\n",
    "            \"file\": file,\n",
    "            \"match_ratio\": match_ratio,\n",
    "            \"match_points\": serialized_match_points,  # Serialized match points\n",
    "            \"keypoints_2_len\": len(keypoints_2)  # Return keypoints length for simplicity\n",
    "        }\n",
    "    return None\n",
    "\n",
    "# Function to deserialize match points and draw matches\n",
    "def deserialize_and_draw(fingerprint_test, keypoints_1, fingerprint_database_image, keypoints_2_len, match_points):\n",
    "    # Create dummy keypoints since DMatch needs keypoint objects for visualization\n",
    "    keypoints_2 = [cv2.KeyPoint() for _ in range(keypoints_2_len)]\n",
    "\n",
    "    # Deserialize match points\n",
    "    deserialized_matches = [cv2.DMatch(int(m[0]), int(m[1]), float(m[2])) for m in match_points]\n",
    "\n",
    "    # Draw matches\n",
    "    result_image = cv2.drawMatches(fingerprint_test, keypoints_1, \n",
    "                                   fingerprint_database_image, keypoints_2, \n",
    "                                   deserialized_matches, None)\n",
    "    return result_image\n",
    "\n",
    "# Function to process the results\n",
    "def process_results(results):\n",
    "    for result in results:\n",
    "        if result is not None:\n",
    "            print(f\"% match: {result['match_ratio'] * 100}\")\n",
    "            print(f\"Fingerprint ID: {result['file']}\")\n",
    "            \n",
    "            # Load the fingerprint database image again for drawing\n",
    "            fingerprint_database_image = cv2.imread(\"./database/\" + result['file'])\n",
    "\n",
    "            # Deserialize and draw the matches\n",
    "            result_image = deserialize_and_draw(fingerprint_test, keypoints_1, fingerprint_database_image, \n",
    "                                                result['keypoints_2_len'], result['match_points'])\n",
    "            result_image = cv2.resize(result_image, None, fx=2.5, fy=2.5)\n",
    "            \n",
    "            # Display the result using matplotlib\n",
    "            # Uncomment below to display the result\n",
    "            # plt.imshow(cv2.cvtColor(result_image, cv2.COLOR_BGR2RGB))\n",
    "            # plt.axis('off')\n",
    "            # plt.show()\n",
    "            return True\n",
    "    return False\n"
   ]
  },
  {
   "cell_type": "markdown",
   "id": "2906c996-14b0-4419-816d-2f4aa2b4b140",
   "metadata": {},
   "source": [
    "## 4. Execute the Matching Process\n",
    "Finally, run the multiprocessing logic. You should encapsulate this logic in a `main` guard to avoid issues with Jupyter's execution model."
   ]
  },
  {
   "cell_type": "code",
   "execution_count": 4,
   "id": "86108504-c6d6-4f56-98cb-adfad0cef524",
   "metadata": {},
   "outputs": [
    {
     "name": "stdout",
     "output_type": "stream",
     "text": [
      "% match: 89.65517241379311\n",
      "Fingerprint ID: 106_3.tif\n"
     ]
    }
   ],
   "source": [
    "# Get the list of files in the database\n",
    "files = [file for file in os.listdir(\"database\")]\n",
    "\n",
    "# Create a pool of worker processes\n",
    "with Pool(cpu_count()) as pool:\n",
    "    # Distribute fingerprint matching across processes\n",
    "    results = pool.map(match_fingerprint, files)\n",
    "\n",
    "# Process and display the results\n",
    "if not process_results(results):\n",
    "    print(\"No matching fingerprint found in the database.\")"
   ]
  },
  {
   "cell_type": "code",
   "execution_count": null,
   "id": "49d8e7f5-e1f4-4888-a5ff-4423cdf6d223",
   "metadata": {},
   "outputs": [],
   "source": []
  }
 ],
 "metadata": {
  "kernelspec": {
   "display_name": "Python 3 (ipykernel)",
   "language": "python",
   "name": "python3"
  },
  "language_info": {
   "codemirror_mode": {
    "name": "ipython",
    "version": 3
   },
   "file_extension": ".py",
   "mimetype": "text/x-python",
   "name": "python",
   "nbconvert_exporter": "python",
   "pygments_lexer": "ipython3",
   "version": "3.12.3"
  }
 },
 "nbformat": 4,
 "nbformat_minor": 5
}
